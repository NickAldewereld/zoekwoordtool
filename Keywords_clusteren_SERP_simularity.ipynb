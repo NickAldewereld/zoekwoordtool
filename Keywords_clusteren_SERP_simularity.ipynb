{
  "nbformat": 4,
  "nbformat_minor": 0,
  "metadata": {
    "colab": {
      "provenance": [],
      "include_colab_link": true
    },
    "kernelspec": {
      "name": "python3",
      "display_name": "Python 3"
    },
    "language_info": {
      "name": "python"
    }
  },
  "cells": [
    {
      "cell_type": "markdown",
      "metadata": {
        "id": "view-in-github",
        "colab_type": "text"
      },
      "source": [
        "<a href=\"https://colab.research.google.com/github/NickAldewereld/zoekwoordtool/blob/main/Keywords_clusteren_SERP_simularity.ipynb\" target=\"_parent\"><img src=\"https://colab.research.google.com/assets/colab-badge.svg\" alt=\"Open In Colab\"/></a>"
      ]
    },
    {
      "cell_type": "markdown",
      "source": [
        "Hallo daar! 👋\n",
        "\n",
        "Mijn naam is Frank, SEO specialist bij [Maatwerk Online](https://www.maatwerkonline.nl/). Sinds begin dit jaar ben ik begonnen met SEO processen automatiseren om zo effectiever te zijn in mijn dagelijkse werk. Eén van deze projecten is het automatisch clusteren van keywords middels Python. Via deze Google Colab deel ik mijn code met jou.\n",
        "\n",
        "Middels dit script kun je keywords clusteren op basis van SERP simularity. Als van de top tien organische resultaten een bepaald aantal links overeenkomt (standaard staat dit op 3) dan clustert hij deze onder één onderwerp. Op deze manier kun je datagedreven te werk gaan en bespaar je tijd.\n",
        "\n",
        "<b>Werking van de code</b>\n",
        "\n",
        "*   Keywords ophalen uit het Excel bestand\n",
        "*   Zoekresultaten ophalen op basis van de keywords uit het bestand\n",
        "*   Links van de top 10 organische resultaten hieruit halen\n",
        "*   Keywords met een overlap van 3 dezelfde links samenvoegen\n",
        "*   Samengevoegde keywords als Excel downloaden\n",
        "\n",
        "In de eerste stap upload je jouw Excel bestand. In de tweede stap gaat het script de keywords voor je clusteren. Let wel op dat je zelf bij stap 2 een API key van [SerpAPI](https://serpapi.com/) key toevoegd.\n",
        "\n",
        "Heb je vragen of verbeteringen, neem dan contact met me op via frankvandijk@maatwerkonline.nl (ik ben relatief nieuw in de Python wereld). Als je op de hoogte wilt blijven van waar ik mee bezig ben kan je me volgen op [LinkedIn](https://www.linkedin.com/in/frankvndijk/) en [X (Twitter)](https://x.com/frankvndijk)."
      ],
      "metadata": {
        "id": "cmfBzxZA3KsI"
      }
    },
    {
      "cell_type": "markdown",
      "source": [
        "<h2>Stap 1: Excel uploaden</h2>\n",
        "Door de code hieronder uit te voeren kan je jouw Excel bestand uploaden. Let op dat alle keywords in kolom A staan. De cel A1 wordt niet meegenomen."
      ],
      "metadata": {
        "id": "_x7iw8zQ8nxL"
      }
    },
    {
      "cell_type": "code",
      "execution_count": null,
      "metadata": {
        "id": "0BtsoSU3vfnc"
      },
      "outputs": [],
      "source": [
        "from google.colab import files\n",
        "import io\n",
        "import pandas as pd\n",
        "import requests\n",
        "\n",
        "uploaded = files.upload()\n",
        "\n",
        "for fn in uploaded.keys():\n",
        "  print('Je hebt een bestand geüpload'.format(\n",
        "      name=fn, length=len(uploaded[fn])))"
      ]
    },
    {
      "cell_type": "markdown",
      "source": [
        "<h2>Stap 2: Keywords clusteren</h2>\n",
        "Door de code hieronder uit te voeren worden je keywords geclusterd. Voeg zelf de API key van SerpAPI toe en houdt er rekening mee dat hun API ongeveer 1,5 seconden per keywords nodig heeft.\n"
      ],
      "metadata": {
        "id": "E70H77b68zV9"
      }
    },
    {
      "cell_type": "code",
      "source": [
        "API_KEY_SERPAPI = #plaats hier de API key van SerpAPI als string\n",
        "\n",
        "def getting_keywords():\n",
        "    excel_filename = next(iter(uploaded))\n",
        "    df = pd.read_excel(excel_filename)\n",
        "    cell_values_as_strings = df.astype(str).values.flatten().tolist()\n",
        "    return cell_values_as_strings\n",
        "\n",
        "\n",
        "def scraping_google():\n",
        "    serp_data = []\n",
        "    for i in KEYWORDS:\n",
        "        params = {\n",
        "            \"q\": i,\n",
        "            \"google_domain\": \"google.nl\",\n",
        "            \"hl\": \"nl\",\n",
        "            \"gl\": \"nl\",\n",
        "            \"api_key\": API_KEY_SERPAPI,\n",
        "        }\n",
        "        response = requests.get(url=\"https://serpapi.com/search\", params=params)\n",
        "        data = response.json()\n",
        "        serp_data.append(data)\n",
        "    return serp_data\n",
        "\n",
        "\n",
        "def get_organic_results(serp_data):\n",
        "    full_serp = {}\n",
        "    ammount = 0\n",
        "    for i in serp_data:\n",
        "        current_serp = serp_data[ammount]\n",
        "        ammount += 1\n",
        "        keyword = current_serp[\"search_parameters\"][\"q\"]\n",
        "        rankings = []\n",
        "        for position in range(0, 9):\n",
        "            if position >= len(current_serp[\"organic_results\"]):\n",
        "                break\n",
        "            rankings.append(current_serp[\"organic_results\"][position][\"link\"])\n",
        "        full_serp[keyword] = rankings\n",
        "    return full_serp\n",
        "\n",
        "\n",
        "def clustering_keywords(dict):\n",
        "    clustered_keywords = {}\n",
        "    keyword_searched = set()\n",
        "\n",
        "    for current_keyword, current_url in dict.items():\n",
        "        if current_keyword in keyword_searched:\n",
        "            continue\n",
        "        keyword_searched.add(current_keyword)\n",
        "        clustered_keywords[current_keyword] = [current_keyword]\n",
        "        for compared_keyword, compared_url in dict.items():\n",
        "            if compared_keyword == current_keyword or compared_keyword in keyword_searched:\n",
        "                continue\n",
        "            agreements = len(set(current_url) & set(compared_url))\n",
        "\n",
        "            if agreements >= 3:\n",
        "                clustered_keywords[current_keyword].append(compared_keyword)\n",
        "                keyword_searched.add(compared_keyword)\n",
        "    return clustered_keywords\n",
        "\n",
        "\n",
        "def clustered_keywords_to_excel(clustered_keywords, filename='Keywords.xlsx'):\n",
        "    df = pd.DataFrame()\n",
        "    for key, items in clustered_keywords.items():\n",
        "        temp_df = pd.DataFrame({\n",
        "            'Cluster': [key] * len(items),\n",
        "            'Keywords': items\n",
        "        })\n",
        "        df = pd.concat([df, temp_df], ignore_index=True)\n",
        "    df.to_excel(filename, index=False)\n",
        "    files.download(filename)\n",
        "\n",
        "\n",
        "KEYWORDS = getting_keywords()\n",
        "serp_data = scraping_google()\n",
        "organic_results = get_organic_results(serp_data)\n",
        "clustered_keywords = clustering_keywords(organic_results)\n",
        "clustered_keywords_to_excel(clustered_keywords)"
      ],
      "metadata": {
        "id": "OfAgudGM2XeB"
      },
      "execution_count": null,
      "outputs": []
    },
    {
      "cell_type": "markdown",
      "source": [
        "Vragen of verbeteringen voor het script? Neem contact op met frankvandijk@maatwerkonline.nl."
      ],
      "metadata": {
        "id": "K0pBiwmI-yQj"
      }
    }
  ]
}